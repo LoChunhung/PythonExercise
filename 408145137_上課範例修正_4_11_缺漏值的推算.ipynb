{
 "cells": [
  {
   "cell_type": "code",
   "execution_count": 1,
   "id": "8db998a8",
   "metadata": {},
   "outputs": [],
   "source": [
    "# 載入函式庫\n",
    "import numpy as np\n",
    "# from fancyimpute import KNN ## only applied to python 3.6 and no more maintainance\n",
    "from sklearn.preprocessing import StandardScaler\n",
    "from sklearn.impute import KNNImputer # replace fancyimpute\n",
    "from sklearn.datasets import make_blobs"
   ]
  },
  {
   "cell_type": "code",
   "execution_count": 2,
   "id": "87e73bc2",
   "metadata": {},
   "outputs": [],
   "source": [
    "# 產生模擬的特徵矩陣\n",
    "features, _ = make_blobs(n_samples = 1000,\n",
    "                         n_features = 2,\n",
    "                         random_state = 1)"
   ]
  },
  {
   "cell_type": "code",
   "execution_count": 3,
   "id": "3da86c72",
   "metadata": {},
   "outputs": [],
   "source": [
    "# 特徵標準化\n",
    "scaler = StandardScaler()\n",
    "standardized_features = scaler.fit_transform(features)"
   ]
  },
  {
   "cell_type": "code",
   "execution_count": 4,
   "id": "1b9951b7",
   "metadata": {},
   "outputs": [
    {
     "data": {
      "text/plain": [
       "array([[ 0.87301861,  1.31426523],\n",
       "       [-0.67073178, -0.22369263],\n",
       "       [ 2.1048424 ,  1.45332359],\n",
       "       ...,\n",
       "       [ 1.18998798,  1.33439442],\n",
       "       [ 1.22406396,  1.27667052],\n",
       "       [-0.21664919, -1.19113343]])"
      ]
     },
     "execution_count": 4,
     "metadata": {},
     "output_type": "execute_result"
    }
   ],
   "source": [
    "standardized_features"
   ]
  },
  {
   "cell_type": "code",
   "execution_count": 5,
   "id": "b7d7d8e0",
   "metadata": {},
   "outputs": [],
   "source": [
    "# 以一缺漏值替代第一特徵的第一個值\n",
    "true_value = standardized_features[0,0]\n",
    "standardized_features[0,0] = np.nan"
   ]
  },
  {
   "cell_type": "code",
   "execution_count": 6,
   "id": "94fe14ee",
   "metadata": {},
   "outputs": [
    {
     "data": {
      "text/plain": [
       "array([[        nan,  1.31426523],\n",
       "       [-0.67073178, -0.22369263],\n",
       "       [ 2.1048424 ,  1.45332359],\n",
       "       ...,\n",
       "       [ 1.18998798,  1.33439442],\n",
       "       [ 1.22406396,  1.27667052],\n",
       "       [-0.21664919, -1.19113343]])"
      ]
     },
     "execution_count": 6,
     "metadata": {},
     "output_type": "execute_result"
    }
   ],
   "source": [
    "standardized_features"
   ]
  },
  {
   "cell_type": "code",
   "execution_count": 7,
   "id": "9913d734",
   "metadata": {},
   "outputs": [
    {
     "name": "stdout",
     "output_type": "stream",
     "text": [
      "原值: 0.8730186113995938\n",
      "使用KNN方法補值: 1.0959262913919632\n"
     ]
    }
   ],
   "source": [
    "# 在特徴矩陣中預測缺漏值-以KNN方式\n",
    "imputer = KNNImputer()\n",
    "features_knn_imputed = imputer.fit_transform(standardized_features)\n",
    "\n",
    "# 比較真值與推算值\n",
    "print(\"原值:\", true_value)\n",
    "print(\"使用KNN方法補值:\", features_knn_imputed[0,0])"
   ]
  },
  {
   "cell_type": "code",
   "execution_count": 8,
   "id": "b725a3f2",
   "metadata": {},
   "outputs": [
    {
     "name": "stdout",
     "output_type": "stream",
     "text": [
      "原值: 0.8730186113995938\n",
      "使用平均法補值: -3.058372724614996\n"
     ]
    }
   ],
   "source": [
    "# Alternative imutating method\n",
    "# from sklearn.preprocessing import Imputer \n",
    "# New in version 0.20: SimpleImputer replaces the previous sklearn.preprocessing.Imputer estimator which is now removed.\n",
    "from sklearn.impute import SimpleImputer\n",
    "\n",
    "# Create imputer\n",
    "mean_imputer = SimpleImputer(missing_values=np.nan, strategy='mean')\n",
    "\n",
    "# 推算數值\n",
    "features_mean_imputed = mean_imputer.fit_transform(features)\n",
    "\n",
    "# 比較真值與推算值\n",
    "print(\"原值:\", true_value)\n",
    "print(\"使用平均法補值:\", features_mean_imputed[0,0])"
   ]
  }
 ],
 "metadata": {
  "kernelspec": {
   "display_name": "Python 3 (ipykernel)",
   "language": "python",
   "name": "python3"
  },
  "language_info": {
   "codemirror_mode": {
    "name": "ipython",
    "version": 3
   },
   "file_extension": ".py",
   "mimetype": "text/x-python",
   "name": "python",
   "nbconvert_exporter": "python",
   "pygments_lexer": "ipython3",
   "version": "3.8.11"
  }
 },
 "nbformat": 4,
 "nbformat_minor": 5
}
