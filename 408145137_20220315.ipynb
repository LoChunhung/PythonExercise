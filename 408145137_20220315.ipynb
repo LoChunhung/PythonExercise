{
 "cells": [
  {
   "cell_type": "code",
   "execution_count": null,
   "metadata": {},
   "outputs": [],
   "source": [
    "import os\n",
    "import pandas as pd"
   ]
  },
  {
   "cell_type": "code",
   "execution_count": null,
   "metadata": {},
   "outputs": [],
   "source": [
    "# Check input and output folders.\n",
    "sPath =os.getcwd() \n",
    "input_path = sPath + \"\\\\data\"\n",
    "output_path=sPath + \"\\\\SplitFiles\"\n",
    "print(f\"來源資料夾: {input_path}\\n輸出資料夾: {output_path}\")\n",
    "if not os.path.exists(input_path):\n",
    "    print(\"來源資料夾不存在，請自行建立放入資料!! \")\n",
    "if not os.path.exists(output_path):\n",
    "    os.makedirs(output_path)\n",
    "    print(\"已新增輸出資料夾!! \")\n",
    "else:\n",
    "    print(\"資料夾已存在!! \")"
   ]
  },
  {
   "cell_type": "code",
   "execution_count": null,
   "metadata": {},
   "outputs": [],
   "source": [
    "FileName = input_path + \"\\\\stockCSV.csv\"  \n",
    "stock = pd.read_csv(FileName, header=0, encoding='utf-8')"
   ]
  },
  {
   "cell_type": "code",
   "execution_count": null,
   "metadata": {},
   "outputs": [],
   "source": [
    "stock_codes = set(stock['股票代碼'])\n",
    "stock_dicts = {}\n",
    "i = 1\n",
    "\n",
    "for stock_code in stock_codes:\n",
    "    stock_dicts[stock_code] = stock[stock['股票代碼'] == stock_code]\n",
    "    \n",
    "for stock_code in stock_dicts:\n",
    "    concatString=[]\n",
    "    for YearMonth in sorted(set(stock_dicts[stock_code]['日期'].str[0:6])):\n",
    "        n = int (stock_dicts[stock_code][stock_dicts[stock_code][\"日期\"] <=  (YearMonth +\"/15\")].shape[0])\n",
    "        concatString.append(stock_dicts[stock_code][stock_dicts[stock_code][\"日期\"].str[0:6] <=  (YearMonth +\"/15\")].iloc[(n-5):n, ])\n",
    "    one_stock = pd.concat(concatString)\n",
    "    fileName=f\"stock_{i:02}-{stock_code}.csv\"\n",
    "    one_stock.to_csv('SplitFiles\\\\'+fileName,encoding='utf_8_sig',index = False)\n",
    "    i+=1"
   ]
  }
 ],
 "metadata": {
  "kernelspec": {
   "display_name": "Python 3",
   "language": "python",
   "name": "python3"
  },
  "language_info": {
   "codemirror_mode": {
    "name": "ipython",
    "version": 3
   },
   "file_extension": ".py",
   "mimetype": "text/x-python",
   "name": "python",
   "nbconvert_exporter": "python",
   "pygments_lexer": "ipython3",
   "version": "3.8.5"
  }
 },
 "nbformat": 4,
 "nbformat_minor": 5
}
