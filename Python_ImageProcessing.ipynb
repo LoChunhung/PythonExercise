{
  "nbformat": 4,
  "nbformat_minor": 0,
  "metadata": {
    "colab": {
      "name": "Python_ImageProcessing.ipynb",
      "provenance": [],
      "private_outputs": true,
      "collapsed_sections": [],
      "toc_visible": true,
      "authorship_tag": "ABX9TyO/MHmYLLUyulrguooHC0nE",
      "include_colab_link": true
    },
    "kernelspec": {
      "name": "python3",
      "display_name": "Python 3"
    }
  },
  "cells": [
    {
      "cell_type": "markdown",
      "metadata": {
        "id": "view-in-github",
        "colab_type": "text"
      },
      "source": [
        "<a href=\"https://colab.research.google.com/github/LoChunhung/PythonExercise/blob/master/Python_ImageProcessing.ipynb\" target=\"_parent\"><img src=\"https://colab.research.google.com/assets/colab-badge.svg\" alt=\"Open In Colab\"/></a>"
      ]
    },
    {
      "cell_type": "markdown",
      "metadata": {
        "id": "uURv9y04Tig5",
        "colab_type": "text"
      },
      "source": [
        "\n",
        "\n",
        "> # PILLOW 影像處理模組\n"
      ]
    },
    {
      "cell_type": "markdown",
      "metadata": {
        "id": "TA2Pu-hhUi9Q",
        "colab_type": "text"
      },
      "source": [
        "\n",
        "\n",
        "> ## RGBA- 取得顏色的整數值組\n",
        "\n",
        "**Color name list for PILLOW** [色彩清單](https://upload.wikimedia.org/wikipedia/commons/2/2b/SVG_Recognized_color_keyword_names.svg)"
      ]
    },
    {
      "cell_type": "code",
      "metadata": {
        "id": "HxZvFHLsSgwT",
        "colab_type": "code",
        "colab": {}
      },
      "source": [
        "from PIL import ImageColor"
      ],
      "execution_count": null,
      "outputs": []
    },
    {
      "cell_type": "code",
      "metadata": {
        "id": "2uW8ilUkU6df",
        "colab_type": "code",
        "colab": {}
      },
      "source": [
        "print('RGBA of Color RED RGBA is {}'.format(ImageColor.getcolor('RED','RGBA') )) # 色彩顏色不區分大小寫\n",
        "print('RGBA of Color BLACK RGBA is {}'.format(ImageColor.getcolor('BLACK','RGBA') ))\n",
        "print('RGBA of Color CHOCOLATE is {}'.format(ImageColor.getcolor('CHOCOLATE','RGBA') ))\n",
        "print('RGBA of CORNFLOWERBLUE is {}'.format(ImageColor.getcolor('CORNFLOWERBLUE','RGBA') ))"
      ],
      "execution_count": null,
      "outputs": []
    },
    {
      "cell_type": "markdown",
      "metadata": {
        "id": "t55hbzd7elJz",
        "colab_type": "text"
      },
      "source": [
        "\n",
        "\n",
        "> ## Box tuple- 座標與方框多元組 "
      ]
    },
    {
      "cell_type": "markdown",
      "metadata": {
        "id": "w_NX2mZAhi5n",
        "colab_type": "text"
      },
      "source": [
        "\n",
        "1.   原點(Origin)是影像左上角以(0,0)來表示， 1st 0 是 x軸， 2nd 0 是 y軸。\n",
        "2.   座標系統,X軸由左向右遞增，Y軸由上而下遞增。\n",
        "3.   座標組合 (**LEFT**方框最左X座標, **UPPER**方框最上方Y座標, **RIGHT**方框最右X座標, **LOWER**方框最下方Y座標)\n",
        "\n",
        "\n"
      ]
    },
    {
      "cell_type": "markdown",
      "metadata": {
        "id": "E_JgHWjag-tH",
        "colab_type": "text"
      },
      "source": [
        "\n",
        "\n",
        "> ## 處理影像與圖片"
      ]
    },
    {
      "cell_type": "code",
      "metadata": {
        "id": "DEfKlhUbg93_",
        "colab_type": "code",
        "colab": {}
      },
      "source": [
        "from PIL import Image #固定匯入Pillow模組方法，不可更改"
      ],
      "execution_count": null,
      "outputs": []
    },
    {
      "cell_type": "code",
      "metadata": {
        "id": "E1NYDJfNh8UB",
        "colab_type": "code",
        "colab": {}
      },
      "source": [
        "from google.colab import drive\n",
        "drive.mount('/gdrive')\n",
        "%cd /gdrive/'My Drive'/'Colab Notebooks'/PythonTweak"
      ],
      "execution_count": null,
      "outputs": []
    },
    {
      "cell_type": "markdown",
      "metadata": {
        "id": "ZCyY1hRkkB9A",
        "colab_type": "text"
      },
      "source": [
        "### **<code>Image.open()</code> 載入圖片**"
      ]
    },
    {
      "cell_type": "code",
      "metadata": {
        "id": "K6yFWdyGg9zy",
        "colab_type": "code",
        "colab": {}
      },
      "source": [
        "catIm= Image.open('resources/zophie.png') \n",
        "# catIm.save('resources/zophiebak.png') # 儲存檔案"
      ],
      "execution_count": null,
      "outputs": []
    },
    {
      "cell_type": "markdown",
      "metadata": {
        "id": "zq36L-JlnXrl",
        "colab_type": "text"
      },
      "source": [
        "\n",
        "\n",
        "### **<code>Image.size</code> 取得影像檔案解析度**\n",
        "### **<code>Image.filename</code> 取得影像檔案名稱**\n",
        "### **<code>Image.format</code> 取得影像檔案格式**\n",
        "### **<code>Image.format_description</code> 取得影像檔案格式說明**"
      ]
    },
    {
      "cell_type": "code",
      "metadata": {
        "id": "7pav3pdFlR4e",
        "colab_type": "code",
        "colab": {}
      },
      "source": [
        "catIm.size # 取得 寬度與高度\n",
        "width, height = catIm.size # return a tuple (Width, Height)\n",
        "print(f'影像圖片寬度 (Width)為 {width}, 高度 (Height)為 {height}')\n",
        "print(f'檔案格式為 {catIm.format}, 檔案格式說明為 {catIm.format_description}, ')\n",
        "print(f'影像圖片名稱(包含指定路徑)為 {catIm.filename}')"
      ],
      "execution_count": null,
      "outputs": []
    },
    {
      "cell_type": "markdown",
      "metadata": {
        "id": "9yQq4t_UqhtV",
        "colab_type": "text"
      },
      "source": [
        "### **<code>Image.save()</code> 儲存由副檔名決定的新檔案格式**"
      ]
    },
    {
      "cell_type": "code",
      "metadata": {
        "id": "C8Vh1Z-Im9_b",
        "colab_type": "code",
        "colab": {}
      },
      "source": [
        "catIm.save('resources/zophie.jpg')"
      ],
      "execution_count": null,
      "outputs": []
    },
    {
      "cell_type": "markdown",
      "metadata": {
        "id": "ieNeR5gqr8qC",
        "colab_type": "text"
      },
      "source": [
        "### **<code>Image.new()</code> 建立新的影像檔案，可指定大小與背景顏色**"
      ]
    },
    {
      "cell_type": "code",
      "metadata": {
        "id": "AbIDpv75quF8",
        "colab_type": "code",
        "colab": {}
      },
      "source": [
        "newIm = Image.new('RGBA',(768,1024),'GREEN')\n",
        "newIm.save('resources/newIM.png') # RGBA不能夠儲存為JPEG格式"
      ],
      "execution_count": null,
      "outputs": []
    },
    {
      "cell_type": "code",
      "metadata": {
        "id": "rjpaaSUxscAY",
        "colab_type": "code",
        "colab": {}
      },
      "source": [
        "newIm2 = Image.new('RGBA',(20,20))\n",
        "newIm2.save('resources/transparentImage.png') "
      ],
      "execution_count": null,
      "outputs": []
    },
    {
      "cell_type": "markdown",
      "metadata": {
        "id": "57U4hP_Et74U",
        "colab_type": "text"
      },
      "source": [
        "\n",
        "\n",
        "> ## 裁切、複製、貼上影像圖片\n"
      ]
    },
    {
      "cell_type": "markdown",
      "metadata": {
        "id": "1vMErv0PybuR",
        "colab_type": "text"
      },
      "source": [
        "\n",
        "### <CODE>Image.crop()</CODE> 裁切圖片\n"
      ]
    },
    {
      "cell_type": "code",
      "metadata": {
        "id": "TSc9XJYhtthM",
        "colab_type": "code",
        "colab": {}
      },
      "source": [
        "croppedIm = catIm.crop((335,345,565,560)) #\n",
        "croppedIm.save('resources/cropCat.png')\n",
        "f'Cropped Image size is {croppedIm.size}'"
      ],
      "execution_count": null,
      "outputs": []
    },
    {
      "cell_type": "markdown",
      "metadata": {
        "id": "SIsj8Dym7yeY",
        "colab_type": "text"
      },
      "source": [
        "### <CODE>Image.copy()</CODE> 複製圖片方法\n",
        "### <CODE>Image.paste()</CODE> 貼上圖片方法\n",
        "\n",
        "\n",
        "1.   **與剪貼簿功能無關**\n",
        "2.   **paste()第3個參數是mask遮罩，屬於進階用法，暫不討論。**"
      ]
    },
    {
      "cell_type": "code",
      "metadata": {
        "id": "sG0cGsAizScA",
        "colab_type": "code",
        "colab": {}
      },
      "source": [
        "%matplotlib inline\n",
        "import matplotlib.pyplot as plt\n",
        "catCopyIm = catIm.copy()"
      ],
      "execution_count": null,
      "outputs": []
    },
    {
      "cell_type": "code",
      "metadata": {
        "id": "NJLSXL0s8zrH",
        "colab_type": "code",
        "colab": {}
      },
      "source": [
        "\n",
        "faceIm = catIm.crop((335,345,565,560))\n",
        "plt.imshow(faceIm)\n",
        "plt.show()\n",
        "catCopyIm.paste(faceIm,(0,0))\n",
        "plt.imshow(catCopyIm)\n",
        "plt.show()\n",
        "catCopyIm.paste(faceIm,(400,500))\n",
        "plt.imshow(catCopyIm)\n",
        "catCopyIm.save('resources/pastedCat.png')"
      ],
      "execution_count": null,
      "outputs": []
    },
    {
      "cell_type": "markdown",
      "metadata": {
        "id": "SppAHgxkBJj-",
        "colab_type": "text"
      },
      "source": [
        "\n",
        "### **練習:貓臉貼滿滿**"
      ]
    },
    {
      "cell_type": "code",
      "metadata": {
        "id": "iMY4wBYn-BFc",
        "colab_type": "code",
        "colab": {}
      },
      "source": [
        "newIm = Image.new('RGBA',(1920,1080),'GREEN')\n",
        "catWpImWidth, catWpImHeight = newIm.size\n",
        "faceImWidth, faceImHeight = croppedIm.size\n",
        "\n",
        "for left in range(0, catWpImWidth, faceImWidth):\n",
        "  for top in range(0,catWpImHeight, faceImHeight):\n",
        "    print(left, top)\n",
        "    newIm.paste(croppedIm, (left, top))\n",
        "plt.imshow(newIm)\n",
        "newIm.save('resources/CatWP.png')"
      ],
      "execution_count": null,
      "outputs": []
    },
    {
      "cell_type": "markdown",
      "metadata": {
        "id": "cjgV-p87hijd",
        "colab_type": "text"
      },
      "source": [
        "\n",
        "> ## 影像圖片大小調整、旋轉及翻轉\n",
        "\n",
        "\n",
        "*   Image.resize() - 產生一個新的圖形物件\n",
        "*   Image.rotate()   \n",
        "*   Image.transpose()\n",
        "\n"
      ]
    },
    {
      "cell_type": "markdown",
      "metadata": {
        "id": "tsZeXzGoqb4m",
        "colab_type": "text"
      },
      "source": [
        "\n",
        "\n",
        "###<code>Image resize() </code> 調整影像\n",
        "\n"
      ]
    },
    {
      "cell_type": "code",
      "metadata": {
        "id": "UFSlH5bQ_XtD",
        "colab_type": "code",
        "colab": {}
      },
      "source": [
        "import matplotlib.gridspec as gridspec\n",
        "Owidth, Oheight = catIm.size\n",
        "qutersizedIm = catIm.resize((int(Owidth/2),int(Oheight/2)))\n",
        "qutersizedIm.save('resources/qutersizedIm.png')\n",
        "sveltiIm = catIm.resize((Owidth, Oheight+300)) # 調整高度，使得縮放比例中的高度較大，貓看起來變苗條\n",
        "sveltiIm.save('resources/sveltiIm.png')\n",
        "plt.imshow(catIm)\n",
        "plt.show() \n",
        "plt.imshow(qutersizedIm)\n",
        "plt.show() \n",
        "plt.imshow(sveltiIm)\n",
        "plt.show() "
      ],
      "execution_count": null,
      "outputs": []
    },
    {
      "cell_type": "code",
      "metadata": {
        "id": "PrZDoCbkE3Ks",
        "colab_type": "code",
        "colab": {}
      },
      "source": [
        "fig, ax = plt.subplots(1,3)\n",
        "fig.dpi = 150\n",
        "ax[0].set_title('Original')\n",
        "ax[0].imshow(catIm)\n",
        "ax[1].set_title('1/2 Origninal')\n",
        "ax[1].imshow(qutersizedIm)\n",
        "ax[2].set_title('Adjusted Height')\n",
        "ax[2].imshow(sveltiIm)\n",
        "plt.tight_layout()"
      ],
      "execution_count": null,
      "outputs": []
    },
    {
      "cell_type": "markdown",
      "metadata": {
        "id": "n6SvcufYwV11",
        "colab_type": "text"
      },
      "source": [
        "###<code>Image.rotate() </code> 旋轉影像"
      ]
    },
    {
      "cell_type": "code",
      "metadata": {
        "id": "SbT5MZElmJie",
        "colab_type": "code",
        "colab": {}
      },
      "source": [
        "newIm = Image.new('RGBA',(1920,1080),'GREEN')\n",
        "catIm.rotate( 90).save('resources/rotate90.png')\n",
        "catIm.rotate(180).save('resources/rotate180.png')\n",
        "catIm.rotate(270).save('resources/rotate270.png')"
      ],
      "execution_count": null,
      "outputs": []
    },
    {
      "cell_type": "code",
      "metadata": {
        "id": "OJu3Nma_pU7M",
        "colab_type": "code",
        "colab": {}
      },
      "source": [
        "fig, ax = plt.subplots(1,4)\n",
        "fig.dpi = 200\n",
        "ax[0].set_title('0')\n",
        "ax[0].imshow(catIm)\n",
        "ax[1].set_title('90')\n",
        "ax[1].imshow(catIm.rotate( 90))\n",
        "ax[2].set_title('180')\n",
        "ax[2].imshow(catIm.rotate(180))\n",
        "ax[3].set_title('270')\n",
        "ax[3].imshow(catIm.rotate(270))\n",
        "plt.tight_layout()"
      ],
      "execution_count": null,
      "outputs": []
    },
    {
      "cell_type": "code",
      "metadata": {
        "id": "PObzz1a0NpsP",
        "colab_type": "code",
        "colab": {}
      },
      "source": [
        "fig.dpi"
      ],
      "execution_count": null,
      "outputs": []
    },
    {
      "cell_type": "code",
      "metadata": {
        "id": "b0bcz8_KRJGQ",
        "colab_type": "code",
        "colab": {}
      },
      "source": [
        ""
      ],
      "execution_count": null,
      "outputs": []
    }
  ]
}