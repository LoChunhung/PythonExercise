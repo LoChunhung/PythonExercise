{
 "cells": [
  {
   "cell_type": "code",
   "execution_count": 12,
   "id": "8e922f76",
   "metadata": {},
   "outputs": [],
   "source": [
    "import os\n",
    "import pandas as pd"
   ]
  },
  {
   "cell_type": "code",
   "execution_count": 13,
   "id": "ba01843f",
   "metadata": {},
   "outputs": [],
   "source": [
    "sPath =os.getcwd() \n",
    "input_path = sPath + \"\\\\SplitFiles\\\\\""
   ]
  },
  {
   "cell_type": "code",
   "execution_count": 18,
   "id": "f9b6d7ae",
   "metadata": {},
   "outputs": [],
   "source": [
    "filenames =[\"stock_01-2330.csv\",\"stock_02-2412.csv\",\"stock_03-2454.csv\"] \n",
    "pd_mapping = list(map(lambda filename: pd.read_csv(input_path+filename), filenames))\n"
   ]
  },
  {
   "cell_type": "code",
   "execution_count": 23,
   "id": "ff74106f",
   "metadata": {},
   "outputs": [
    {
     "ename": "ModuleNotFoundError",
     "evalue": "No module named 'matplotlib'",
     "output_type": "error",
     "traceback": [
      "\u001b[1;31m---------------------------------------------------------------------------\u001b[0m",
      "\u001b[1;31mModuleNotFoundError\u001b[0m                       Traceback (most recent call last)",
      "\u001b[1;32mC:\\Users\\408145~1\\AppData\\Local\\Temp/ipykernel_14152/2624317436.py\u001b[0m in \u001b[0;36m<module>\u001b[1;34m\u001b[0m\n\u001b[1;32m----> 1\u001b[1;33m \u001b[1;32mimport\u001b[0m \u001b[0mmatplotlib\u001b[0m\u001b[1;33m.\u001b[0m\u001b[0mpyplot\u001b[0m \u001b[1;32mas\u001b[0m \u001b[0mplt\u001b[0m\u001b[1;33m\u001b[0m\u001b[1;33m\u001b[0m\u001b[0m\n\u001b[0m\u001b[0;32m      2\u001b[0m \u001b[1;33m\u001b[0m\u001b[0m\n\u001b[0;32m      3\u001b[0m \u001b[0mplt\u001b[0m\u001b[1;33m.\u001b[0m\u001b[0mfigure\u001b[0m\u001b[1;33m(\u001b[0m\u001b[1;33m)\u001b[0m\u001b[1;33m\u001b[0m\u001b[1;33m\u001b[0m\u001b[0m\n\u001b[0;32m      4\u001b[0m \u001b[0mfilename1\u001b[0m \u001b[1;33m=\u001b[0m \u001b[1;34m'SplitFiles\\\\stock_01-2330.csv'\u001b[0m\u001b[1;33m\u001b[0m\u001b[1;33m\u001b[0m\u001b[0m\n\u001b[0;32m      5\u001b[0m \u001b[0mfilename2\u001b[0m \u001b[1;33m=\u001b[0m \u001b[1;34m'SplitFiles\\\\stock_02-2412.csv'\u001b[0m\u001b[1;33m\u001b[0m\u001b[1;33m\u001b[0m\u001b[0m\n",
      "\u001b[1;31mModuleNotFoundError\u001b[0m: No module named 'matplotlib'"
     ]
    }
   ],
   "source": [
    "import matplotlib.pyplot as plt\n",
    "\n",
    "plt.figure()\n",
    "filename1 = 'SplitFiles\\\\stock_01-2330.csv'\n",
    "filename2 = 'SplitFiles\\\\stock_02-2412.csv'\n",
    "filename3 = 'SplitFiles\\\\stock_03-2454.csv'\n",
    "\n",
    "df1 = pd.read_csv(filename1) \n",
    "df2 = pd.read_csv(filename2) \n",
    "df3 = pd.read_csv(filename3) \n",
    "df1Result=pd.concat([df1.日期,df1.成交筆數],axis=1)\n",
    "df1Result.日期=df1Result.日期.transform(lambda x:x[0:6])\n",
    "df1Result.成交筆數=df1Result.成交筆數.transform(lambda x:float(x.replace(\",\", \"\")))\n",
    "g1=df1Result.groupby('日期')['成交筆數'].mean()\n",
    "x1=list(g1.index)\n",
    "y1=list(g1)\n",
    "plt.subplot(2, 2, 1)\n",
    "#df1Result.plot.bar()\n",
    "plt.bar(x1,y1)\n",
    "df2Result=pd.concat([df2.日期,df2.成交筆數],axis=1)\n",
    "df2Result.日期=df2Result.日期.transform(lambda x:x[0:6])\n",
    "df2Result.成交筆數=df2Result.成交筆數.transform(lambda x:float(x.replace(\",\", \"\")))\n",
    "g2=df2Result.groupby('日期')['成交筆數'].mean()\n",
    "x2=list(g2.index)\n",
    "y2=list(g2)\n",
    "plt.subplot(2, 2, 2)\n",
    "#df2Result.plot.bar()\n",
    "plt.bar(x2,y2)\n",
    "plt.subplot(2, 2, 3)\n",
    "df3Result=pd.concat([df3.日期,df3.成交筆數],axis=1)\n",
    "df3Result.日期=df3Result.日期.transform(lambda x:x[0:6])\n",
    "df3Result.成交筆數=df3Result.成交筆數.transform(lambda x:float(x.replace(\",\", \"\")))\n",
    "g3=df3Result.groupby('日期')['成交筆數'].mean()\n",
    "x3=list(g3.index)\n",
    "y3=list(g3)\n",
    "#df3Result.plot.bar()\n",
    "plt.bar(x3,y3)\n",
    "plt.subplot(224)\n",
    "plt.plot([1, 2, 3, 4], [1, 4, 9, 16], 'K')\n",
    "plt.show() "
   ]
  },
  {
   "cell_type": "code",
   "execution_count": null,
   "id": "dd1f477f",
   "metadata": {},
   "outputs": [],
   "source": []
  }
 ],
 "metadata": {
  "kernelspec": {
   "display_name": "Python 3 (ipykernel)",
   "language": "python",
   "name": "python3"
  },
  "language_info": {
   "codemirror_mode": {
    "name": "ipython",
    "version": 3
   },
   "file_extension": ".py",
   "mimetype": "text/x-python",
   "name": "python",
   "nbconvert_exporter": "python",
   "pygments_lexer": "ipython3",
   "version": "3.8.12"
  }
 },
 "nbformat": 4,
 "nbformat_minor": 5
}
