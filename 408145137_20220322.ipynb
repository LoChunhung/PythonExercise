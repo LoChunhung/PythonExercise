{
 "cells": [
  {
   "cell_type": "code",
   "execution_count": null,
   "metadata": {},
   "outputs": [],
   "source": [
    "import os\n",
    "import pandas as pd\n",
    "import matplotlib.pyplot as plt"
   ]
  },
  {
   "cell_type": "code",
   "execution_count": null,
   "metadata": {},
   "outputs": [],
   "source": [
    "sPath =os.getcwd() \n",
    "input_path = sPath + \"\\\\SplitFiles\\\\\""
   ]
  },
  {
   "cell_type": "code",
   "execution_count": null,
   "metadata": {},
   "outputs": [],
   "source": [
    "filenames =[\"stock_01-2330.csv\",\"stock_02-2412.csv\",\"stock_03-2454.csv\"] \n",
    "pd_mapping = list(map(lambda filename: pd.read_csv(input_path+filename), filenames))"
   ]
  },
  {
   "cell_type": "code",
   "execution_count": null,
   "metadata": {},
   "outputs": [],
   "source": [
    "fig = plt.figure()\n",
    "plt.rcParams[\"figure.figsize\"] = (14, 10)\n",
    "fig.set_figheight(10)\n",
    "fig.set_figwidth(10)\n",
    "pd_stocks = [None]*3\n",
    "for i in range(3):    \n",
    "    pd_mapping[i][\"日期_年月\"] = pd_mapping[i][\"日期\"].str[0:6]\n",
    "    pd_mapping[i][[\"成交筆數\"]] = pd_mapping[i][[\"成交筆數\"]].replace('[\\$,]', '', regex=True).astype(int)\n",
    "    pd_stocks[i] = pd_mapping[i][[\"日期_年月\",\"股票代碼\",\"成交筆數\"]].groupby(['日期_年月','股票代碼'])['成交筆數'].mean()\n",
    "    # print()\n",
    "    if i+1 < 3:\n",
    "        plt.subplot(2, 2, i+1)\n",
    "    else:\n",
    "        plt.subplot(212)\n",
    "    plt.bar(pd_stocks[i].index.get_level_values(\"日期_年月\"),pd_stocks[i], 0.6)\n",
    "    plt.title(str(list(set(pd_stocks[i].index.get_level_values(\"股票代碼\")))[0]) +\"\\n Montly Average Volumns (每月平均成交量)\", loc = \"center\")\n",
    "    plt.xlabel(\" Year-Month (交易年月) \", loc = \"right\")\n",
    "    plt.ylabel(\" Volumns (成交量) \", loc = \"top\")\n",
    "fig.tight_layout()\n",
    "plt.show()"
   ]
  },
  {
   "cell_type": "markdown",
   "metadata": {},
   "source": [
    "### 調整中文顯示方法\n",
    "##### Anaconda3\\Lib\\site-packages\\matplotlib\\mpl-data，\n",
    "##### 使用文字編輯軟體(例如: notepad) 開啟matplotlibrc, \n",
    "####  搜尋 font.family，調整為 Microsoft JhengHei 儲存檔案，重新執行spyder 或 jupyter notebook."
   ]
  }
 ],
 "metadata": {
  "kernelspec": {
   "display_name": "Python 3",
   "language": "python",
   "name": "python3"
  },
  "language_info": {
   "codemirror_mode": {
    "name": "ipython",
    "version": 3
   },
   "file_extension": ".py",
   "mimetype": "text/x-python",
   "name": "python",
   "nbconvert_exporter": "python",
   "pygments_lexer": "ipython3",
   "version": "3.8.5"
  }
 },
 "nbformat": 4,
 "nbformat_minor": 5
}
